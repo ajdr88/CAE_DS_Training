{
 "cells": [
  {
   "cell_type": "code",
   "execution_count": 1,
   "metadata": {},
   "outputs": [],
   "source": [
    "import numpy as np\n",
    "import pyvista as pv\n",
    "import matplotlib.pyplot as plt\n",
    "import trimesh as tm \n",
    "import tkinter as tk\n",
    "from tkinter import filedialog \n",
    "import pandas as pd\n",
    "import os\n",
    "import seaborn as sns\n",
    "from utilities import select_files, select_file, plot_all"
   ]
  },
  {
   "cell_type": "markdown",
   "metadata": {},
   "source": [
    "bounding box"
   ]
  },
  {
   "cell_type": "code",
   "execution_count": 2,
   "metadata": {},
   "outputs": [
    {
     "data": {
      "application/vnd.jupyter.widget-view+json": {
       "model_id": "73978a15e8db4b978c0669f664f74de3",
       "version_major": 2,
       "version_minor": 0
      },
      "text/plain": [
       "Widget(value='<iframe src=\"http://localhost:62251/index.html?ui=P_0x225484bc9e0_0&reconnect=auto\" class=\"pyvis…"
      ]
     },
     "metadata": {},
     "output_type": "display_data"
    }
   ],
   "source": [
    "\n",
    "box = select_files()\n",
    "mesh_b = pv.read(box[0].name)\n",
    "plotter = pv.Plotter()\n",
    "_ = plotter.add_mesh(mesh_b, opacity=0.70)\n",
    "#mesh_holes['Stress GPa'] = sim_data['ver_stress']\n",
    "#plotter.view_xy()\n",
    "plotter.show()"
   ]
  },
  {
   "cell_type": "code",
   "execution_count": 3,
   "metadata": {},
   "outputs": [
    {
     "data": {
      "application/vnd.jupyter.widget-view+json": {
       "model_id": "0bc31e97b65547889897cd8b1e3dadec",
       "version_major": 2,
       "version_minor": 0
      },
      "text/plain": [
       "Widget(value='<iframe src=\"http://localhost:62251/index.html?ui=P_0x2254d46d9a0_1&reconnect=auto\" class=\"pyvis…"
      ]
     },
     "metadata": {},
     "output_type": "display_data"
    }
   ],
   "source": [
    "voxels = pv.voxelize(mesh_b, density=10)\n",
    "p = pv.Plotter()\n",
    "p.add_mesh(voxels, color=True, show_edges=True, opacity=0.5)\n",
    "p.add_mesh(mesh_b, color=\"lightblue\", opacity=0.3)\n",
    "p.show()"
   ]
  },
  {
   "cell_type": "code",
   "execution_count": 4,
   "metadata": {},
   "outputs": [],
   "source": [
    "filtered_files = select_file()\n",
    "sim_files = pd.read_csv(filtered_files.name)\n"
   ]
  },
  {
   "cell_type": "code",
   "execution_count": 5,
   "metadata": {},
   "outputs": [],
   "source": [
    "mesh_list = sim_files['sur_mesh']"
   ]
  },
  {
   "cell_type": "code",
   "execution_count": 6,
   "metadata": {},
   "outputs": [
    {
     "data": {
      "application/vnd.jupyter.widget-view+json": {
       "model_id": "4194987a643f43b6b19e27466965fea9",
       "version_major": 2,
       "version_minor": 0
      },
      "text/plain": [
       "Widget(value='<iframe src=\"http://localhost:62251/index.html?ui=P_0x225500c6a20_2&reconnect=auto\" class=\"pyvis…"
      ]
     },
     "metadata": {},
     "output_type": "display_data"
    }
   ],
   "source": [
    "p1 = pv.Plotter()\n",
    "for i in range(len(mesh_list)):\n",
    "\n",
    "    filename = mesh_list[i]\n",
    "    mesh_i = pv.read(filename)\n",
    "    p1.add_mesh(mesh_i, opacity=0.10, color=True)\n",
    "p1.add_mesh(voxels, color=True, show_edges=True, opacity=0.5)\n",
    "p1.show(cpos='yx' )"
   ]
  },
  {
   "cell_type": "code",
   "execution_count": 7,
   "metadata": {},
   "outputs": [
    {
     "name": "stdout",
     "output_type": "stream",
     "text": [
      "UnstructuredGrid (0x22550047880)\n",
      "  N Cells:    1680\n",
      "  N Points:   2184\n",
      "  X Bounds:   -4.670e+01, 7.330e+01\n",
      "  Y Bounds:   -1.800e+02, 2.000e+01\n",
      "  Z Bounds:   -3.563e+00, 6.644e+01\n",
      "  N Arrays:   2\n"
     ]
    }
   ],
   "source": [
    "print(voxels)"
   ]
  },
  {
   "cell_type": "code",
   "execution_count": 36,
   "metadata": {},
   "outputs": [
    {
     "name": "stdout",
     "output_type": "stream",
     "text": [
      "1680\n"
     ]
    }
   ],
   "source": [
    "n = voxels.n_cells\n",
    "print(n)"
   ]
  },
  {
   "cell_type": "code",
   "execution_count": 8,
   "metadata": {},
   "outputs": [
    {
     "data": {
      "text/plain": [
       "Cell (0x22550046620)\n",
       "  Type:        <CellType.HEXAHEDRON: 12>\n",
       "  Linear:      True\n",
       "  Dimension:   3\n",
       "  N Points:    8\n",
       "  N Faces:     6\n",
       "  N Edges:     12\n",
       "  X Bounds:    -4.670e+01, -3.670e+01\n",
       "  Y Bounds:    -1.800e+02, -1.700e+02\n",
       "  Z Bounds:    -3.563e+00, 6.437e+00"
      ]
     },
     "execution_count": 8,
     "metadata": {},
     "output_type": "execute_result"
    }
   ],
   "source": [
    "voxels.get_cell(0)"
   ]
  },
  {
   "cell_type": "code",
   "execution_count": 21,
   "metadata": {},
   "outputs": [],
   "source": [
    "cell_0 = voxels.get_cell(0)\n",
    "cell_01 = voxels.extract_cells(555)"
   ]
  },
  {
   "cell_type": "code",
   "execution_count": 25,
   "metadata": {},
   "outputs": [
    {
     "name": "stderr",
     "output_type": "stream",
     "text": [
      "ERROR:root:Input for connection index 0 on input port index 1 for algorithm vtkIntersectionPolyDataFilter (00000225D75509E0) is of type vtkUnstructuredGrid, but a vtkPolyData is required.\n"
     ]
    }
   ],
   "source": [
    "m = pv.read(mesh_list[0])\n",
    "intersection, s1_split, s2_split = m.intersection(voxels.extract_cells(555))"
   ]
  },
  {
   "cell_type": "markdown",
   "metadata": {},
   "source": [
    "Convert voxel to polydata(mesh like) structure to use intersection and volume methods"
   ]
  },
  {
   "cell_type": "code",
   "execution_count": 31,
   "metadata": {},
   "outputs": [],
   "source": [
    "voxel_polydata = cell_01.extract_surface().triangulate()\n",
    "intersection, s1_split, s2_split = m.intersection(voxel_polydata)\n",
    "intersection_bool = voxel_polydata.boolean_intersection(m)"
   ]
  },
  {
   "cell_type": "code",
   "execution_count": 39,
   "metadata": {},
   "outputs": [
    {
     "name": "stdout",
     "output_type": "stream",
     "text": [
      "[[  -6.7039833 -120.          16.436998 ]\n",
      " [ -16.703983  -120.          26.432093 ]\n",
      " [ -16.703983  -120.          16.436998 ]\n",
      " [ -16.700638  -120.          26.433653 ]\n",
      " [  -6.7039833 -120.          26.436998 ]\n",
      " [ -16.693457  -120.          26.436998 ]\n",
      " [  -7.0060153 -119.788895    16.436998 ]\n",
      " [  -6.9172587 -119.78673     16.436998 ]\n",
      " [  -8.421813  -119.840416    16.436998 ]\n",
      " [  -8.6596985 -119.846725    16.436998 ]\n",
      " [  -9.018234  -119.859406    16.436998 ]\n",
      " [ -10.362341  -119.88914     16.436998 ]\n",
      " [ -12.122328  -119.954796    16.436998 ]\n",
      " [ -12.199137  -119.95667     16.436998 ]\n",
      " [ -12.221263  -119.94906     16.436998 ]\n",
      " [ -12.337474  -119.90748     16.436998 ]\n",
      " [  -6.7039833 -119.78152     16.436998 ]\n",
      " [ -16.703983  -114.030716    16.436998 ]\n",
      " [ -16.703983  -114.03437     16.757618 ]\n",
      " [ -16.703983  -113.83263     17.073717 ]\n",
      " [ -16.703983  -113.09008     18.166935 ]\n",
      " [ -16.703983  -112.8217      18.36518  ]\n",
      " [ -16.703983  -112.4431      18.55247  ]\n",
      " [ -16.703983  -112.209595    18.646593 ]\n",
      " [ -16.703983  -119.99516     26.432161 ]\n",
      " [ -16.703983  -110.          26.436998 ]\n",
      " [ -16.703983  -110.          19.352123 ]\n",
      " [ -16.703983  -119.65299     26.436998 ]\n",
      " [ -16.703983  -110.174774    19.321833 ]\n",
      " [ -16.703983  -110.756485    19.217243 ]\n",
      " [ -16.703983  -111.53821     18.917223 ]\n",
      " [  -6.7039833 -119.34622     16.736282 ]\n",
      " [  -6.7039833 -119.184       16.845604 ]\n",
      " [  -6.7039833 -118.13849     17.51737  ]\n",
      " [  -6.7039833 -117.9145      17.661621 ]\n",
      " [  -6.7039833 -117.881905    17.68163  ]\n",
      " [  -6.7039833 -116.58613     18.458662 ]\n",
      " [  -6.7039833 -116.36934     18.58211  ]\n",
      " [  -6.7039833 -115.217865    19.224483 ]\n",
      " [  -6.7039833 -114.73334     19.48087  ]\n",
      " [  -6.7039833 -114.0385      19.84278  ]\n",
      " [  -6.7039833 -113.61645     20.053446 ]\n",
      " [  -6.7039833 -110.          26.436998 ]\n",
      " [  -6.7039833 -110.          21.706783 ]\n",
      " [  -6.7039833 -113.38739     20.16778  ]\n",
      " [  -6.7039833 -112.69983     20.50174  ]\n",
      " [  -6.7039833 -111.90925     20.870426 ]\n",
      " [  -6.7039833 -111.22135     21.18207  ]\n",
      " [  -6.7039833 -110.32705     21.568653 ]\n",
      " [ -11.999922  -110.          21.732937 ]\n",
      " [ -12.824791  -110.          21.67214  ]\n",
      " [ -13.178562  -110.          21.589643 ]\n",
      " [ -14.086293  -110.          21.38175  ]\n",
      " [ -14.519332  -110.          21.214434 ]\n",
      " [ -15.313482  -110.          20.822048 ]\n",
      " [ -15.418524  -110.          20.759884 ]\n",
      " [ -15.497313  -110.          20.688456 ]\n",
      " [ -16.192957  -110.          20.056427 ]\n",
      " [  -7.244628  -110.          21.715244 ]\n",
      " [  -7.276777  -110.          21.715553 ]\n",
      " [  -7.35421   -110.          21.716738 ]\n",
      " [  -9.140719  -110.          21.73365  ]\n",
      " [  -9.675495  -110.          21.739603 ]\n",
      " [ -11.526387  -110.          21.767675 ]\n",
      " [ -11.659593  -110.          21.758022 ]\n",
      " [ -14.4366    -110.431       21.20766  ]\n",
      " [ -14.519332  -110.          21.214434 ]\n",
      " [ -14.086293  -110.          21.38175  ]\n",
      " [  -8.82759   -113.952       19.9199   ]\n",
      " [  -8.15587   -115.504       19.09302  ]\n",
      " [ -10.2229    -115.074       19.35932  ]\n",
      " [ -11.6079    -110.109       21.72473  ]\n",
      " [ -11.659593  -110.          21.758022 ]\n",
      " [ -11.526387  -110.          21.767675 ]\n",
      " [  -7.47637   -111.499       21.0695   ]\n",
      " [  -9.133     -112.365       20.69595  ]\n",
      " [  -9.37239   -110.455       21.55058  ]\n",
      " [ -13.0829    -110.339       21.53773  ]\n",
      " [ -13.178562  -110.          21.589643 ]\n",
      " [ -12.824791  -110.          21.67214  ]\n",
      " [ -11.999922  -110.          21.732937 ]\n",
      " [  -7.43442   -113.019       20.36023  ]\n",
      " [ -10.6339    -113.539       20.1536   ]\n",
      " [ -10.998     -111.858       20.95533  ]\n",
      " [ -12.5019    -113.221       20.33714  ]\n",
      " [ -12.706     -111.487       21.14562  ]\n",
      " [  -9.140719  -110.          21.73365  ]\n",
      " [  -7.35421   -110.          21.716738 ]\n",
      " [  -7.276777  -110.          21.715553 ]\n",
      " [  -6.7039833 -111.22135     21.18207  ]\n",
      " [  -6.7039833 -110.32705     21.568653 ]\n",
      " [  -7.244628  -110.          21.715244 ]\n",
      " [  -6.7039833 -111.90925     20.870426 ]\n",
      " [  -6.7039833 -110.          21.706783 ]\n",
      " [  -9.675495  -110.          21.739603 ]\n",
      " [ -13.7402    -112.71        20.59948  ]\n",
      " [ -14.1248    -111.608       21.00111  ]\n",
      " [ -14.1649    -118.266       17.14859  ]\n",
      " [ -14.5493    -116.894       17.98317  ]\n",
      " [ -12.9602    -117.271       18.16851  ]\n",
      " [ -12.5915    -118.619       17.33069  ]\n",
      " [ -11.2511    -117.523       17.98641  ]\n",
      " [  -8.4193    -118.414       17.38044  ]\n",
      " [  -8.64863   -119.715       16.52914  ]\n",
      " [ -10.4731    -118.89        17.11442  ]\n",
      " [ -12.2056    -119.936       16.45179  ]\n",
      " [ -13.586037  -119.45018     16.436998 ]\n",
      " [ -12.337474  -119.90748     16.436998 ]\n",
      " [ -12.221263  -119.94906     16.436998 ]\n",
      " [ -12.199137  -119.95667     16.436998 ]\n",
      " [  -8.6596985 -119.846725    16.436998 ]\n",
      " [  -9.018234  -119.859406    16.436998 ]\n",
      " [ -13.837679  -119.35429     16.436998 ]\n",
      " [ -14.555941  -118.54283     16.436998 ]\n",
      " [ -12.122328  -119.954796    16.436998 ]\n",
      " [ -10.362341  -119.88914     16.436998 ]\n",
      " [ -15.4016    -117.513       16.47768  ]\n",
      " [  -6.7039833 -118.13849     17.51737  ]\n",
      " [  -6.7039833 -119.184       16.845604 ]\n",
      " [  -6.88879   -119.241       16.81173  ]\n",
      " [ -15.8       -116.093       17.30197  ]\n",
      " [ -14.9055    -115.517       18.76367  ]\n",
      " [ -15.1136    -114.596       19.26271  ]\n",
      " [ -13.6368    -114.487       19.72131  ]\n",
      " [ -16.295616  -115.341095    16.436998 ]\n",
      " [ -16.2488    -114.332       18.24076  ]\n",
      " [ -16.412205  -115.03659     16.436998 ]\n",
      " [ -14.4777    -113.618       20.08137  ]\n",
      " [ -15.5528    -113.446       19.66166  ]\n",
      " [ -14.8186    -112.529       20.49019  ]\n",
      " [  -7.31308   -114.271       19.73387  ]\n",
      " [  -6.7039833 -115.217865    19.224483 ]\n",
      " [  -6.7039833 -114.73334     19.48087  ]\n",
      " [  -8.20446   -117.08        18.19622  ]\n",
      " [  -6.7039833 -116.58613     18.458662 ]\n",
      " [  -6.7039833 -117.881905    17.68163  ]\n",
      " [  -6.7039833 -116.36934     18.58211  ]\n",
      " [ -16.703983  -113.83263     17.073717 ]\n",
      " [ -16.703983  -113.09008     18.166935 ]\n",
      " [ -16.703983  -114.03437     16.757618 ]\n",
      " [ -16.5501    -114.65965     16.436998 ]\n",
      " [ -16.4881    -111.783       19.33183  ]\n",
      " [ -16.2948    -112.956       19.157    ]\n",
      " [ -16.703983  -112.4431      18.55247  ]\n",
      " [ -16.703983  -112.8217      18.36518  ]\n",
      " [ -16.703983  -112.209595    18.646593 ]\n",
      " [ -16.703983  -111.53821     18.917223 ]\n",
      " [ -13.7623    -113.606       20.16736  ]\n",
      " [  -9.68429   -117.67        17.8685   ]\n",
      " [ -16.703983  -119.65299     26.436998 ]\n",
      " [ -16.703983  -119.99516     26.432161 ]\n",
      " [ -16.693457  -120.          26.436998 ]\n",
      " [ -16.700638  -120.          26.433653 ]\n",
      " [ -16.703983  -120.          26.432093 ]\n",
      " [ -15.428184  -117.47192     16.436998 ]\n",
      " [ -15.927377  -116.271965    16.436998 ]\n",
      " [  -6.7039833 -117.9145      17.661621 ]\n",
      " [ -15.7726    -112.207       20.05004  ]\n",
      " [ -16.703983  -114.030716    16.436998 ]\n",
      " [ -13.3092    -115.893       18.96513  ]\n",
      " [ -16.703983  -110.756485    19.217243 ]\n",
      " [ -11.6425    -116.178       18.77806  ]\n",
      " [  -9.89367   -116.499       18.56531  ]\n",
      " [ -12.0115    -114.75        19.55924  ]\n",
      " [ -15.382072  -117.57775     16.436998 ]\n",
      " [ -16.015     -110.971       20.1334   ]\n",
      " [ -15.1662    -111.334       20.72997  ]\n",
      " [ -15.4001    -110.106       20.76753  ]\n",
      " [  -6.7039833 -114.0385      19.84278  ]\n",
      " [  -6.7039833 -113.61645     20.053446 ]\n",
      " [  -6.7039833 -113.38739     20.16778  ]\n",
      " [ -15.418524  -110.          20.759884 ]\n",
      " [ -15.313482  -110.          20.822048 ]\n",
      " [ -16.703983  -110.174774    19.321833 ]\n",
      " [ -15.408079  -117.51927     16.436998 ]\n",
      " [ -15.497313  -110.          20.688456 ]\n",
      " [ -16.192957  -110.          20.056427 ]\n",
      " [ -16.703983  -110.          19.352123 ]\n",
      " [  -6.7039833 -112.69983     20.50174  ]\n",
      " [  -6.7039833 -119.34622     16.736282 ]\n",
      " [  -6.7039833 -119.78152     16.436998 ]\n",
      " [  -6.9172587 -119.78673     16.436998 ]\n",
      " [  -7.0060153 -119.788895    16.436998 ]\n",
      " [  -8.421813  -119.840416    16.436998 ]]\n"
     ]
    }
   ],
   "source": [
    "print(intersection_bool.points)"
   ]
  },
  {
   "cell_type": "code",
   "execution_count": 42,
   "metadata": {},
   "outputs": [
    {
     "name": "stdout",
     "output_type": "stream",
     "text": [
      "821.9863731387766\n",
      "1000.0\n"
     ]
    }
   ],
   "source": [
    "print(intersection_bool.volume)\n",
    "print(voxel_polydata.volume)"
   ]
  },
  {
   "cell_type": "code",
   "execution_count": 38,
   "metadata": {},
   "outputs": [
    {
     "name": "stderr",
     "output_type": "stream",
     "text": [
      "ERROR:root:No points/cells to operate on\n",
      "ERROR:root:No points/cells to operate on\n",
      "d:\\checkouts\\ML-Training\\ML-env\\DS-ML\\Lib\\site-packages\\pyvista\\core\\filters\\poly_data.py:262: UserWarning: Unable to compute boolean intersection when one PolyData is contained within another and no faces intersect.\n",
      "  warnings.warn(\n"
     ]
    }
   ],
   "source": [
    "#c0 = voxels.get_cell(0).extract_surface().triangulate().boolean_intersection(m)\n",
    "intersection_bool_0 = voxels.extract_cells(0).extract_surface().triangulate().boolean_intersection(m)"
   ]
  },
  {
   "cell_type": "code",
   "execution_count": 40,
   "metadata": {},
   "outputs": [
    {
     "name": "stdout",
     "output_type": "stream",
     "text": [
      "[]\n"
     ]
    }
   ],
   "source": [
    "print(intersection_bool_0.points)"
   ]
  },
  {
   "cell_type": "code",
   "execution_count": 26,
   "metadata": {},
   "outputs": [
    {
     "name": "stdout",
     "output_type": "stream",
     "text": [
      "[]\n"
     ]
    }
   ],
   "source": [
    "print(intersection.points)"
   ]
  },
  {
   "cell_type": "code",
   "execution_count": 34,
   "metadata": {},
   "outputs": [
    {
     "data": {
      "application/vnd.jupyter.widget-view+json": {
       "model_id": "59da464111734fe7a4e8b8ea7e5c5844",
       "version_major": 2,
       "version_minor": 0
      },
      "text/plain": [
       "Widget(value='<iframe src=\"http://localhost:62251/index.html?ui=P_0x22623c810a0_12&reconnect=auto\" class=\"pyvi…"
      ]
     },
     "metadata": {},
     "output_type": "display_data"
    }
   ],
   "source": [
    "p2 = pv.Plotter()\n",
    "p2.add_mesh(intersection_bool, color=\"red\", opacity=1)\n",
    "p2.add_mesh(voxels, color=\"lightblue\", show_edges=True, opacity=0.1)\n",
    "p2.add_mesh(m,color=\"green\", opacity=0.3)\n",
    "p2.show()"
   ]
  },
  {
   "cell_type": "markdown",
   "metadata": {},
   "source": [
    "Compute the intersections and the intersection volume for all voxels\n",
    "one mesh"
   ]
  },
  {
   "cell_type": "code",
   "execution_count": 43,
   "metadata": {},
   "outputs": [],
   "source": [
    "def compute_voxel_intersections(surface_mesh, voxel_grid):\n",
    "    cell_percentage = np.zeros(n) # \n",
    "    volume_0 = voxels.extract_cells(0).extract_surface().triangulate().volume\n",
    "    n = voxel_grid.n_cells\n",
    "    \n",
    "    for i in range(n):\n",
    "        intersection = voxels.extract_cells(i).extract_surface().triangulate().boolean_intersection(surface_mesh)\n",
    "        if len(intersection.points)>0:\n",
    "            cell_vol = intersection.volume/volume_0\n",
    "            cell_percentage[i] = cell_vol\n",
    "    \n",
    "    return cell_percentage\n",
    "\n"
   ]
  },
  {
   "cell_type": "code",
   "execution_count": null,
   "metadata": {},
   "outputs": [],
   "source": []
  },
  {
   "cell_type": "code",
   "execution_count": null,
   "metadata": {},
   "outputs": [],
   "source": [
    "def compute_cell_stress(sim_results, voxel_grid):"
   ]
  }
 ],
 "metadata": {
  "kernelspec": {
   "display_name": "DS-ML",
   "language": "python",
   "name": "python3"
  },
  "language_info": {
   "codemirror_mode": {
    "name": "ipython",
    "version": 3
   },
   "file_extension": ".py",
   "mimetype": "text/x-python",
   "name": "python",
   "nbconvert_exporter": "python",
   "pygments_lexer": "ipython3",
   "version": "3.12.5"
  }
 },
 "nbformat": 4,
 "nbformat_minor": 2
}
